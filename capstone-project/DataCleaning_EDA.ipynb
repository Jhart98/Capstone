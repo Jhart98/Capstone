{
 "cells": [
  {
   "cell_type": "markdown",
   "metadata": {},
   "source": [
    "### Data Cleaning"
   ]
  },
  {
   "cell_type": "code",
   "execution_count": 17,
   "metadata": {},
   "outputs": [],
   "source": [
    "# imports \n",
    "import pandas as pd\n",
    "import matplotlib.pyplot as plt"
   ]
  },
  {
   "cell_type": "code",
   "execution_count": 2,
   "metadata": {},
   "outputs": [
    {
     "data": {
      "text/html": [
       "<div>\n",
       "<style scoped>\n",
       "    .dataframe tbody tr th:only-of-type {\n",
       "        vertical-align: middle;\n",
       "    }\n",
       "\n",
       "    .dataframe tbody tr th {\n",
       "        vertical-align: top;\n",
       "    }\n",
       "\n",
       "    .dataframe thead th {\n",
       "        text-align: right;\n",
       "    }\n",
       "</style>\n",
       "<table border=\"1\" class=\"dataframe\">\n",
       "  <thead>\n",
       "    <tr style=\"text-align: right;\">\n",
       "      <th></th>\n",
       "      <th>emp_title</th>\n",
       "      <th>emp_length</th>\n",
       "      <th>state</th>\n",
       "      <th>homeownership</th>\n",
       "      <th>annual_income</th>\n",
       "      <th>verified_income</th>\n",
       "      <th>debt_to_income</th>\n",
       "      <th>annual_income_joint</th>\n",
       "      <th>verification_income_joint</th>\n",
       "      <th>debt_to_income_joint</th>\n",
       "      <th>...</th>\n",
       "      <th>sub_grade</th>\n",
       "      <th>issue_month</th>\n",
       "      <th>loan_status</th>\n",
       "      <th>initial_listing_status</th>\n",
       "      <th>disbursement_method</th>\n",
       "      <th>balance</th>\n",
       "      <th>paid_total</th>\n",
       "      <th>paid_principal</th>\n",
       "      <th>paid_interest</th>\n",
       "      <th>paid_late_fees</th>\n",
       "    </tr>\n",
       "  </thead>\n",
       "  <tbody>\n",
       "    <tr>\n",
       "      <th>0</th>\n",
       "      <td>global config engineer</td>\n",
       "      <td>3.0</td>\n",
       "      <td>NJ</td>\n",
       "      <td>MORTGAGE</td>\n",
       "      <td>90000.0</td>\n",
       "      <td>Verified</td>\n",
       "      <td>18.01</td>\n",
       "      <td>NaN</td>\n",
       "      <td>NaN</td>\n",
       "      <td>NaN</td>\n",
       "      <td>...</td>\n",
       "      <td>C3</td>\n",
       "      <td>Mar-2018</td>\n",
       "      <td>Current</td>\n",
       "      <td>whole</td>\n",
       "      <td>Cash</td>\n",
       "      <td>27015.86</td>\n",
       "      <td>1999.33</td>\n",
       "      <td>984.14</td>\n",
       "      <td>1015.19</td>\n",
       "      <td>0.0</td>\n",
       "    </tr>\n",
       "    <tr>\n",
       "      <th>1</th>\n",
       "      <td>warehouse office clerk</td>\n",
       "      <td>10.0</td>\n",
       "      <td>HI</td>\n",
       "      <td>RENT</td>\n",
       "      <td>40000.0</td>\n",
       "      <td>Not Verified</td>\n",
       "      <td>5.04</td>\n",
       "      <td>NaN</td>\n",
       "      <td>NaN</td>\n",
       "      <td>NaN</td>\n",
       "      <td>...</td>\n",
       "      <td>C1</td>\n",
       "      <td>Feb-2018</td>\n",
       "      <td>Current</td>\n",
       "      <td>whole</td>\n",
       "      <td>Cash</td>\n",
       "      <td>4651.37</td>\n",
       "      <td>499.12</td>\n",
       "      <td>348.63</td>\n",
       "      <td>150.49</td>\n",
       "      <td>0.0</td>\n",
       "    </tr>\n",
       "    <tr>\n",
       "      <th>2</th>\n",
       "      <td>assembly</td>\n",
       "      <td>3.0</td>\n",
       "      <td>WI</td>\n",
       "      <td>RENT</td>\n",
       "      <td>40000.0</td>\n",
       "      <td>Source Verified</td>\n",
       "      <td>21.15</td>\n",
       "      <td>NaN</td>\n",
       "      <td>NaN</td>\n",
       "      <td>NaN</td>\n",
       "      <td>...</td>\n",
       "      <td>D1</td>\n",
       "      <td>Feb-2018</td>\n",
       "      <td>Current</td>\n",
       "      <td>fractional</td>\n",
       "      <td>Cash</td>\n",
       "      <td>1824.63</td>\n",
       "      <td>281.80</td>\n",
       "      <td>175.37</td>\n",
       "      <td>106.43</td>\n",
       "      <td>0.0</td>\n",
       "    </tr>\n",
       "    <tr>\n",
       "      <th>3</th>\n",
       "      <td>customer service</td>\n",
       "      <td>1.0</td>\n",
       "      <td>PA</td>\n",
       "      <td>RENT</td>\n",
       "      <td>30000.0</td>\n",
       "      <td>Not Verified</td>\n",
       "      <td>10.16</td>\n",
       "      <td>NaN</td>\n",
       "      <td>NaN</td>\n",
       "      <td>NaN</td>\n",
       "      <td>...</td>\n",
       "      <td>A3</td>\n",
       "      <td>Jan-2018</td>\n",
       "      <td>Current</td>\n",
       "      <td>whole</td>\n",
       "      <td>Cash</td>\n",
       "      <td>18853.26</td>\n",
       "      <td>3312.89</td>\n",
       "      <td>2746.74</td>\n",
       "      <td>566.15</td>\n",
       "      <td>0.0</td>\n",
       "    </tr>\n",
       "    <tr>\n",
       "      <th>4</th>\n",
       "      <td>security supervisor</td>\n",
       "      <td>10.0</td>\n",
       "      <td>CA</td>\n",
       "      <td>RENT</td>\n",
       "      <td>35000.0</td>\n",
       "      <td>Verified</td>\n",
       "      <td>57.96</td>\n",
       "      <td>57000.0</td>\n",
       "      <td>Verified</td>\n",
       "      <td>37.66</td>\n",
       "      <td>...</td>\n",
       "      <td>C3</td>\n",
       "      <td>Mar-2018</td>\n",
       "      <td>Current</td>\n",
       "      <td>whole</td>\n",
       "      <td>Cash</td>\n",
       "      <td>21430.15</td>\n",
       "      <td>2324.65</td>\n",
       "      <td>1569.85</td>\n",
       "      <td>754.80</td>\n",
       "      <td>0.0</td>\n",
       "    </tr>\n",
       "  </tbody>\n",
       "</table>\n",
       "<p>5 rows × 55 columns</p>\n",
       "</div>"
      ],
      "text/plain": [
       "                 emp_title  emp_length state homeownership  annual_income  \\\n",
       "0  global config engineer          3.0    NJ      MORTGAGE        90000.0   \n",
       "1   warehouse office clerk        10.0    HI          RENT        40000.0   \n",
       "2                 assembly         3.0    WI          RENT        40000.0   \n",
       "3         customer service         1.0    PA          RENT        30000.0   \n",
       "4     security supervisor         10.0    CA          RENT        35000.0   \n",
       "\n",
       "   verified_income  debt_to_income  annual_income_joint  \\\n",
       "0         Verified           18.01                  NaN   \n",
       "1     Not Verified            5.04                  NaN   \n",
       "2  Source Verified           21.15                  NaN   \n",
       "3     Not Verified           10.16                  NaN   \n",
       "4         Verified           57.96              57000.0   \n",
       "\n",
       "  verification_income_joint  debt_to_income_joint  ...  sub_grade  \\\n",
       "0                       NaN                   NaN  ...         C3   \n",
       "1                       NaN                   NaN  ...         C1   \n",
       "2                       NaN                   NaN  ...         D1   \n",
       "3                       NaN                   NaN  ...         A3   \n",
       "4                  Verified                 37.66  ...         C3   \n",
       "\n",
       "   issue_month  loan_status  initial_listing_status  disbursement_method  \\\n",
       "0     Mar-2018      Current                   whole                 Cash   \n",
       "1     Feb-2018      Current                   whole                 Cash   \n",
       "2     Feb-2018      Current              fractional                 Cash   \n",
       "3     Jan-2018      Current                   whole                 Cash   \n",
       "4     Mar-2018      Current                   whole                 Cash   \n",
       "\n",
       "    balance  paid_total  paid_principal  paid_interest  paid_late_fees  \n",
       "0  27015.86     1999.33          984.14        1015.19             0.0  \n",
       "1   4651.37      499.12          348.63         150.49             0.0  \n",
       "2   1824.63      281.80          175.37         106.43             0.0  \n",
       "3  18853.26     3312.89         2746.74         566.15             0.0  \n",
       "4  21430.15     2324.65         1569.85         754.80             0.0  \n",
       "\n",
       "[5 rows x 55 columns]"
      ]
     },
     "execution_count": 2,
     "metadata": {},
     "output_type": "execute_result"
    }
   ],
   "source": [
    "# read in the data\n",
    "train = pd.read_csv('./datasets/loans_full_schema.csv')\n",
    "train.head()"
   ]
  },
  {
   "cell_type": "code",
   "execution_count": 3,
   "metadata": {},
   "outputs": [
    {
     "data": {
      "text/html": [
       "<div>\n",
       "<style scoped>\n",
       "    .dataframe tbody tr th:only-of-type {\n",
       "        vertical-align: middle;\n",
       "    }\n",
       "\n",
       "    .dataframe tbody tr th {\n",
       "        vertical-align: top;\n",
       "    }\n",
       "\n",
       "    .dataframe thead th {\n",
       "        text-align: right;\n",
       "    }\n",
       "</style>\n",
       "<table border=\"1\" class=\"dataframe\">\n",
       "  <thead>\n",
       "    <tr style=\"text-align: right;\">\n",
       "      <th></th>\n",
       "      <th>emp_length</th>\n",
       "      <th>annual_income</th>\n",
       "      <th>debt_to_income</th>\n",
       "      <th>annual_income_joint</th>\n",
       "      <th>debt_to_income_joint</th>\n",
       "      <th>delinq_2y</th>\n",
       "      <th>months_since_last_delinq</th>\n",
       "      <th>earliest_credit_line</th>\n",
       "      <th>inquiries_last_12m</th>\n",
       "      <th>total_credit_lines</th>\n",
       "      <th>...</th>\n",
       "      <th>public_record_bankrupt</th>\n",
       "      <th>loan_amount</th>\n",
       "      <th>term</th>\n",
       "      <th>interest_rate</th>\n",
       "      <th>installment</th>\n",
       "      <th>balance</th>\n",
       "      <th>paid_total</th>\n",
       "      <th>paid_principal</th>\n",
       "      <th>paid_interest</th>\n",
       "      <th>paid_late_fees</th>\n",
       "    </tr>\n",
       "  </thead>\n",
       "  <tbody>\n",
       "    <tr>\n",
       "      <th>count</th>\n",
       "      <td>9183.000000</td>\n",
       "      <td>1.000000e+04</td>\n",
       "      <td>9976.000000</td>\n",
       "      <td>1.495000e+03</td>\n",
       "      <td>1495.000000</td>\n",
       "      <td>10000.00000</td>\n",
       "      <td>4342.000000</td>\n",
       "      <td>10000.00000</td>\n",
       "      <td>10000.00000</td>\n",
       "      <td>10000.000000</td>\n",
       "      <td>...</td>\n",
       "      <td>10000.000000</td>\n",
       "      <td>10000.000000</td>\n",
       "      <td>10000.000000</td>\n",
       "      <td>10000.000000</td>\n",
       "      <td>10000.000000</td>\n",
       "      <td>10000.000000</td>\n",
       "      <td>10000.000000</td>\n",
       "      <td>10000.000000</td>\n",
       "      <td>10000.000000</td>\n",
       "      <td>10000.000000</td>\n",
       "    </tr>\n",
       "    <tr>\n",
       "      <th>mean</th>\n",
       "      <td>5.930306</td>\n",
       "      <td>7.922215e+04</td>\n",
       "      <td>19.308192</td>\n",
       "      <td>1.279146e+05</td>\n",
       "      <td>19.979304</td>\n",
       "      <td>0.21600</td>\n",
       "      <td>36.760709</td>\n",
       "      <td>2001.29000</td>\n",
       "      <td>1.95820</td>\n",
       "      <td>22.679600</td>\n",
       "      <td>...</td>\n",
       "      <td>0.123800</td>\n",
       "      <td>16361.922500</td>\n",
       "      <td>43.272000</td>\n",
       "      <td>12.427524</td>\n",
       "      <td>476.205323</td>\n",
       "      <td>14458.916610</td>\n",
       "      <td>2494.234773</td>\n",
       "      <td>1894.448466</td>\n",
       "      <td>599.666781</td>\n",
       "      <td>0.119516</td>\n",
       "    </tr>\n",
       "    <tr>\n",
       "      <th>std</th>\n",
       "      <td>3.703734</td>\n",
       "      <td>6.473429e+04</td>\n",
       "      <td>15.004851</td>\n",
       "      <td>7.016838e+04</td>\n",
       "      <td>8.054781</td>\n",
       "      <td>0.68366</td>\n",
       "      <td>21.634939</td>\n",
       "      <td>7.79551</td>\n",
       "      <td>2.38013</td>\n",
       "      <td>11.885439</td>\n",
       "      <td>...</td>\n",
       "      <td>0.337172</td>\n",
       "      <td>10301.956759</td>\n",
       "      <td>11.029877</td>\n",
       "      <td>5.001105</td>\n",
       "      <td>294.851627</td>\n",
       "      <td>9964.561865</td>\n",
       "      <td>3958.230365</td>\n",
       "      <td>3884.407175</td>\n",
       "      <td>517.328062</td>\n",
       "      <td>1.813468</td>\n",
       "    </tr>\n",
       "    <tr>\n",
       "      <th>min</th>\n",
       "      <td>0.000000</td>\n",
       "      <td>0.000000e+00</td>\n",
       "      <td>0.000000</td>\n",
       "      <td>1.920000e+04</td>\n",
       "      <td>0.320000</td>\n",
       "      <td>0.00000</td>\n",
       "      <td>1.000000</td>\n",
       "      <td>1963.00000</td>\n",
       "      <td>0.00000</td>\n",
       "      <td>2.000000</td>\n",
       "      <td>...</td>\n",
       "      <td>0.000000</td>\n",
       "      <td>1000.000000</td>\n",
       "      <td>36.000000</td>\n",
       "      <td>5.310000</td>\n",
       "      <td>30.750000</td>\n",
       "      <td>0.000000</td>\n",
       "      <td>0.000000</td>\n",
       "      <td>0.000000</td>\n",
       "      <td>0.000000</td>\n",
       "      <td>0.000000</td>\n",
       "    </tr>\n",
       "    <tr>\n",
       "      <th>25%</th>\n",
       "      <td>2.000000</td>\n",
       "      <td>4.500000e+04</td>\n",
       "      <td>11.057500</td>\n",
       "      <td>8.683350e+04</td>\n",
       "      <td>14.160000</td>\n",
       "      <td>0.00000</td>\n",
       "      <td>19.000000</td>\n",
       "      <td>1997.00000</td>\n",
       "      <td>0.00000</td>\n",
       "      <td>14.000000</td>\n",
       "      <td>...</td>\n",
       "      <td>0.000000</td>\n",
       "      <td>8000.000000</td>\n",
       "      <td>36.000000</td>\n",
       "      <td>9.430000</td>\n",
       "      <td>256.040000</td>\n",
       "      <td>6679.065000</td>\n",
       "      <td>928.700000</td>\n",
       "      <td>587.100000</td>\n",
       "      <td>221.757500</td>\n",
       "      <td>0.000000</td>\n",
       "    </tr>\n",
       "    <tr>\n",
       "      <th>50%</th>\n",
       "      <td>6.000000</td>\n",
       "      <td>6.500000e+04</td>\n",
       "      <td>17.570000</td>\n",
       "      <td>1.130000e+05</td>\n",
       "      <td>19.720000</td>\n",
       "      <td>0.00000</td>\n",
       "      <td>34.000000</td>\n",
       "      <td>2003.00000</td>\n",
       "      <td>1.00000</td>\n",
       "      <td>21.000000</td>\n",
       "      <td>...</td>\n",
       "      <td>0.000000</td>\n",
       "      <td>14500.000000</td>\n",
       "      <td>36.000000</td>\n",
       "      <td>11.980000</td>\n",
       "      <td>398.420000</td>\n",
       "      <td>12379.495000</td>\n",
       "      <td>1563.300000</td>\n",
       "      <td>984.990000</td>\n",
       "      <td>446.140000</td>\n",
       "      <td>0.000000</td>\n",
       "    </tr>\n",
       "    <tr>\n",
       "      <th>75%</th>\n",
       "      <td>10.000000</td>\n",
       "      <td>9.500000e+04</td>\n",
       "      <td>25.002500</td>\n",
       "      <td>1.515455e+05</td>\n",
       "      <td>25.500000</td>\n",
       "      <td>0.00000</td>\n",
       "      <td>53.000000</td>\n",
       "      <td>2006.00000</td>\n",
       "      <td>3.00000</td>\n",
       "      <td>29.000000</td>\n",
       "      <td>...</td>\n",
       "      <td>0.000000</td>\n",
       "      <td>24000.000000</td>\n",
       "      <td>60.000000</td>\n",
       "      <td>15.050000</td>\n",
       "      <td>644.690000</td>\n",
       "      <td>20690.182500</td>\n",
       "      <td>2616.005000</td>\n",
       "      <td>1694.555000</td>\n",
       "      <td>825.420000</td>\n",
       "      <td>0.000000</td>\n",
       "    </tr>\n",
       "    <tr>\n",
       "      <th>max</th>\n",
       "      <td>10.000000</td>\n",
       "      <td>2.300000e+06</td>\n",
       "      <td>469.090000</td>\n",
       "      <td>1.100000e+06</td>\n",
       "      <td>39.980000</td>\n",
       "      <td>13.00000</td>\n",
       "      <td>118.000000</td>\n",
       "      <td>2015.00000</td>\n",
       "      <td>29.00000</td>\n",
       "      <td>87.000000</td>\n",
       "      <td>...</td>\n",
       "      <td>3.000000</td>\n",
       "      <td>40000.000000</td>\n",
       "      <td>60.000000</td>\n",
       "      <td>30.940000</td>\n",
       "      <td>1566.590000</td>\n",
       "      <td>40000.000000</td>\n",
       "      <td>41630.443684</td>\n",
       "      <td>40000.000000</td>\n",
       "      <td>4216.440000</td>\n",
       "      <td>52.980000</td>\n",
       "    </tr>\n",
       "  </tbody>\n",
       "</table>\n",
       "<p>8 rows × 42 columns</p>\n",
       "</div>"
      ],
      "text/plain": [
       "        emp_length  annual_income  debt_to_income  annual_income_joint  \\\n",
       "count  9183.000000   1.000000e+04     9976.000000         1.495000e+03   \n",
       "mean      5.930306   7.922215e+04       19.308192         1.279146e+05   \n",
       "std       3.703734   6.473429e+04       15.004851         7.016838e+04   \n",
       "min       0.000000   0.000000e+00        0.000000         1.920000e+04   \n",
       "25%       2.000000   4.500000e+04       11.057500         8.683350e+04   \n",
       "50%       6.000000   6.500000e+04       17.570000         1.130000e+05   \n",
       "75%      10.000000   9.500000e+04       25.002500         1.515455e+05   \n",
       "max      10.000000   2.300000e+06      469.090000         1.100000e+06   \n",
       "\n",
       "       debt_to_income_joint    delinq_2y  months_since_last_delinq  \\\n",
       "count           1495.000000  10000.00000               4342.000000   \n",
       "mean              19.979304      0.21600                 36.760709   \n",
       "std                8.054781      0.68366                 21.634939   \n",
       "min                0.320000      0.00000                  1.000000   \n",
       "25%               14.160000      0.00000                 19.000000   \n",
       "50%               19.720000      0.00000                 34.000000   \n",
       "75%               25.500000      0.00000                 53.000000   \n",
       "max               39.980000     13.00000                118.000000   \n",
       "\n",
       "       earliest_credit_line  inquiries_last_12m  total_credit_lines  ...  \\\n",
       "count           10000.00000         10000.00000        10000.000000  ...   \n",
       "mean             2001.29000             1.95820           22.679600  ...   \n",
       "std                 7.79551             2.38013           11.885439  ...   \n",
       "min              1963.00000             0.00000            2.000000  ...   \n",
       "25%              1997.00000             0.00000           14.000000  ...   \n",
       "50%              2003.00000             1.00000           21.000000  ...   \n",
       "75%              2006.00000             3.00000           29.000000  ...   \n",
       "max              2015.00000            29.00000           87.000000  ...   \n",
       "\n",
       "       public_record_bankrupt   loan_amount          term  interest_rate  \\\n",
       "count            10000.000000  10000.000000  10000.000000   10000.000000   \n",
       "mean                 0.123800  16361.922500     43.272000      12.427524   \n",
       "std                  0.337172  10301.956759     11.029877       5.001105   \n",
       "min                  0.000000   1000.000000     36.000000       5.310000   \n",
       "25%                  0.000000   8000.000000     36.000000       9.430000   \n",
       "50%                  0.000000  14500.000000     36.000000      11.980000   \n",
       "75%                  0.000000  24000.000000     60.000000      15.050000   \n",
       "max                  3.000000  40000.000000     60.000000      30.940000   \n",
       "\n",
       "        installment       balance    paid_total  paid_principal  \\\n",
       "count  10000.000000  10000.000000  10000.000000    10000.000000   \n",
       "mean     476.205323  14458.916610   2494.234773     1894.448466   \n",
       "std      294.851627   9964.561865   3958.230365     3884.407175   \n",
       "min       30.750000      0.000000      0.000000        0.000000   \n",
       "25%      256.040000   6679.065000    928.700000      587.100000   \n",
       "50%      398.420000  12379.495000   1563.300000      984.990000   \n",
       "75%      644.690000  20690.182500   2616.005000     1694.555000   \n",
       "max     1566.590000  40000.000000  41630.443684    40000.000000   \n",
       "\n",
       "       paid_interest  paid_late_fees  \n",
       "count   10000.000000    10000.000000  \n",
       "mean      599.666781        0.119516  \n",
       "std       517.328062        1.813468  \n",
       "min         0.000000        0.000000  \n",
       "25%       221.757500        0.000000  \n",
       "50%       446.140000        0.000000  \n",
       "75%       825.420000        0.000000  \n",
       "max      4216.440000       52.980000  \n",
       "\n",
       "[8 rows x 42 columns]"
      ]
     },
     "execution_count": 3,
     "metadata": {},
     "output_type": "execute_result"
    }
   ],
   "source": [
    "# Get some summary statistics\n",
    "train.describe()"
   ]
  },
  {
   "cell_type": "code",
   "execution_count": 4,
   "metadata": {},
   "outputs": [
    {
     "name": "stdout",
     "output_type": "stream",
     "text": [
      "<class 'pandas.core.frame.DataFrame'>\n",
      "RangeIndex: 10000 entries, 0 to 9999\n",
      "Data columns (total 55 columns):\n",
      " #   Column                            Non-Null Count  Dtype  \n",
      "---  ------                            --------------  -----  \n",
      " 0   emp_title                         9167 non-null   object \n",
      " 1   emp_length                        9183 non-null   float64\n",
      " 2   state                             10000 non-null  object \n",
      " 3   homeownership                     10000 non-null  object \n",
      " 4   annual_income                     10000 non-null  float64\n",
      " 5   verified_income                   10000 non-null  object \n",
      " 6   debt_to_income                    9976 non-null   float64\n",
      " 7   annual_income_joint               1495 non-null   float64\n",
      " 8   verification_income_joint         1455 non-null   object \n",
      " 9   debt_to_income_joint              1495 non-null   float64\n",
      " 10  delinq_2y                         10000 non-null  int64  \n",
      " 11  months_since_last_delinq          4342 non-null   float64\n",
      " 12  earliest_credit_line              10000 non-null  int64  \n",
      " 13  inquiries_last_12m                10000 non-null  int64  \n",
      " 14  total_credit_lines                10000 non-null  int64  \n",
      " 15  open_credit_lines                 10000 non-null  int64  \n",
      " 16  total_credit_limit                10000 non-null  int64  \n",
      " 17  total_credit_utilized             10000 non-null  int64  \n",
      " 18  num_collections_last_12m          10000 non-null  int64  \n",
      " 19  num_historical_failed_to_pay      10000 non-null  int64  \n",
      " 20  months_since_90d_late             2285 non-null   float64\n",
      " 21  current_accounts_delinq           10000 non-null  int64  \n",
      " 22  total_collection_amount_ever      10000 non-null  int64  \n",
      " 23  current_installment_accounts      10000 non-null  int64  \n",
      " 24  accounts_opened_24m               10000 non-null  int64  \n",
      " 25  months_since_last_credit_inquiry  8729 non-null   float64\n",
      " 26  num_satisfactory_accounts         10000 non-null  int64  \n",
      " 27  num_accounts_120d_past_due        9682 non-null   float64\n",
      " 28  num_accounts_30d_past_due         10000 non-null  int64  \n",
      " 29  num_active_debit_accounts         10000 non-null  int64  \n",
      " 30  total_debit_limit                 10000 non-null  int64  \n",
      " 31  num_total_cc_accounts             10000 non-null  int64  \n",
      " 32  num_open_cc_accounts              10000 non-null  int64  \n",
      " 33  num_cc_carrying_balance           10000 non-null  int64  \n",
      " 34  num_mort_accounts                 10000 non-null  int64  \n",
      " 35  account_never_delinq_percent      10000 non-null  float64\n",
      " 36  tax_liens                         10000 non-null  int64  \n",
      " 37  public_record_bankrupt            10000 non-null  int64  \n",
      " 38  loan_purpose                      10000 non-null  object \n",
      " 39  application_type                  10000 non-null  object \n",
      " 40  loan_amount                       10000 non-null  int64  \n",
      " 41  term                              10000 non-null  int64  \n",
      " 42  interest_rate                     10000 non-null  float64\n",
      " 43  installment                       10000 non-null  float64\n",
      " 44  grade                             10000 non-null  object \n",
      " 45  sub_grade                         10000 non-null  object \n",
      " 46  issue_month                       10000 non-null  object \n",
      " 47  loan_status                       10000 non-null  object \n",
      " 48  initial_listing_status            10000 non-null  object \n",
      " 49  disbursement_method               10000 non-null  object \n",
      " 50  balance                           10000 non-null  float64\n",
      " 51  paid_total                        10000 non-null  float64\n",
      " 52  paid_principal                    10000 non-null  float64\n",
      " 53  paid_interest                     10000 non-null  float64\n",
      " 54  paid_late_fees                    10000 non-null  float64\n",
      "dtypes: float64(17), int64(25), object(13)\n",
      "memory usage: 4.2+ MB\n"
     ]
    }
   ],
   "source": [
    "# Get data type info\n",
    "train.info()"
   ]
  },
  {
   "cell_type": "code",
   "execution_count": 6,
   "metadata": {},
   "outputs": [
    {
     "data": {
      "text/plain": [
       "emp_title                            833\n",
       "emp_length                           817\n",
       "state                                  0\n",
       "homeownership                          0\n",
       "annual_income                          0\n",
       "verified_income                        0\n",
       "debt_to_income                        24\n",
       "annual_income_joint                 8505\n",
       "verification_income_joint           8545\n",
       "debt_to_income_joint                8505\n",
       "delinq_2y                              0\n",
       "months_since_last_delinq            5658\n",
       "earliest_credit_line                   0\n",
       "inquiries_last_12m                     0\n",
       "total_credit_lines                     0\n",
       "open_credit_lines                      0\n",
       "total_credit_limit                     0\n",
       "total_credit_utilized                  0\n",
       "num_collections_last_12m               0\n",
       "num_historical_failed_to_pay           0\n",
       "months_since_90d_late               7715\n",
       "current_accounts_delinq                0\n",
       "total_collection_amount_ever           0\n",
       "current_installment_accounts           0\n",
       "accounts_opened_24m                    0\n",
       "months_since_last_credit_inquiry    1271\n",
       "num_satisfactory_accounts              0\n",
       "num_accounts_120d_past_due           318\n",
       "num_accounts_30d_past_due              0\n",
       "num_active_debit_accounts              0\n",
       "total_debit_limit                      0\n",
       "num_total_cc_accounts                  0\n",
       "num_open_cc_accounts                   0\n",
       "num_cc_carrying_balance                0\n",
       "num_mort_accounts                      0\n",
       "account_never_delinq_percent           0\n",
       "tax_liens                              0\n",
       "public_record_bankrupt                 0\n",
       "loan_purpose                           0\n",
       "application_type                       0\n",
       "loan_amount                            0\n",
       "term                                   0\n",
       "interest_rate                          0\n",
       "installment                            0\n",
       "grade                                  0\n",
       "sub_grade                              0\n",
       "issue_month                            0\n",
       "loan_status                            0\n",
       "initial_listing_status                 0\n",
       "disbursement_method                    0\n",
       "balance                                0\n",
       "paid_total                             0\n",
       "paid_principal                         0\n",
       "paid_interest                          0\n",
       "paid_late_fees                         0\n",
       "dtype: int64"
      ]
     },
     "execution_count": 6,
     "metadata": {},
     "output_type": "execute_result"
    }
   ],
   "source": [
    "# Check for null values\n",
    "train.isnull().sum()"
   ]
  },
  {
   "cell_type": "code",
   "execution_count": 8,
   "metadata": {},
   "outputs": [
    {
     "data": {
      "text/plain": [
       "Current               9375\n",
       "Fully Paid             447\n",
       "In Grace Period         67\n",
       "Late (31-120 days)      66\n",
       "Late (16-30 days)       38\n",
       "Charged Off              7\n",
       "Name: loan_status, dtype: int64"
      ]
     },
     "execution_count": 8,
     "metadata": {},
     "output_type": "execute_result"
    }
   ],
   "source": [
    "# Check out the loan status column class distribution\n",
    "train['loan_status'].value_counts()"
   ]
  },
  {
   "cell_type": "code",
   "execution_count": 9,
   "metadata": {},
   "outputs": [
    {
     "data": {
      "text/plain": [
       "(10000, 55)"
      ]
     },
     "execution_count": 9,
     "metadata": {},
     "output_type": "execute_result"
    }
   ],
   "source": [
    "# Check dimensionality of dataset\n",
    "train.shape"
   ]
  },
  {
   "cell_type": "code",
   "execution_count": 10,
   "metadata": {},
   "outputs": [
    {
     "data": {
      "text/plain": [
       "(10000, 56)"
      ]
     },
     "execution_count": 10,
     "metadata": {},
     "output_type": "execute_result"
    }
   ],
   "source": [
    "# Made new column with train loanStatus of 'Fully Paid'\n",
    "train['fully_paid'] = (train['loan_status'] == 'Fully Paid').astype(int)\n",
    "# Check to see if additional column is there\n",
    "train.shape"
   ]
  },
  {
   "cell_type": "code",
   "execution_count": 12,
   "metadata": {},
   "outputs": [
    {
     "data": {
      "text/plain": [
       "0    9553\n",
       "1     447\n",
       "Name: fully_paid, dtype: int64"
      ]
     },
     "execution_count": 12,
     "metadata": {},
     "output_type": "execute_result"
    }
   ],
   "source": [
    "# Checking class distribution of fully paid column\n",
    "train['fully_paid'].value_counts()"
   ]
  },
  {
   "cell_type": "code",
   "execution_count": 13,
   "metadata": {},
   "outputs": [
    {
     "name": "stderr",
     "output_type": "stream",
     "text": [
      "<ipython-input-13-3f8af3078e70>:3: FutureWarning: The default value of numeric_only in DataFrame.corrwith is deprecated. In a future version, it will default to False. Select only valid columns or specify the value of numeric_only to silence this warning.\n",
      "  train.corrwith(train[\"fully_paid\"])\n"
     ]
    },
    {
     "data": {
      "text/plain": [
       "emp_length                         -0.000243\n",
       "annual_income                       0.024685\n",
       "debt_to_income                     -0.026296\n",
       "annual_income_joint                 0.023309\n",
       "debt_to_income_joint               -0.055108\n",
       "delinq_2y                           0.001025\n",
       "months_since_last_delinq           -0.030919\n",
       "earliest_credit_line               -0.004261\n",
       "inquiries_last_12m                  0.026165\n",
       "total_credit_lines                  0.034537\n",
       "open_credit_lines                  -0.002207\n",
       "total_credit_limit                  0.029942\n",
       "total_credit_utilized               0.014517\n",
       "num_collections_last_12m            0.010829\n",
       "num_historical_failed_to_pay       -0.002599\n",
       "months_since_90d_late               0.011260\n",
       "current_accounts_delinq            -0.002163\n",
       "total_collection_amount_ever       -0.005369\n",
       "current_installment_accounts       -0.006698\n",
       "accounts_opened_24m                 0.038746\n",
       "months_since_last_credit_inquiry   -0.028593\n",
       "num_satisfactory_accounts          -0.001791\n",
       "num_accounts_120d_past_due               NaN\n",
       "num_accounts_30d_past_due          -0.002163\n",
       "num_active_debit_accounts          -0.034010\n",
       "total_debit_limit                   0.004791\n",
       "num_total_cc_accounts               0.024188\n",
       "num_open_cc_accounts               -0.000934\n",
       "num_cc_carrying_balance            -0.037818\n",
       "num_mort_accounts                   0.028394\n",
       "account_never_delinq_percent        0.006565\n",
       "tax_liens                          -0.005179\n",
       "public_record_bankrupt              0.003820\n",
       "loan_amount                        -0.016195\n",
       "term                                0.002695\n",
       "interest_rate                       0.042581\n",
       "installment                        -0.014506\n",
       "balance                            -0.313894\n",
       "paid_total                          0.734867\n",
       "paid_principal                      0.762748\n",
       "paid_interest                      -0.104469\n",
       "paid_late_fees                     -0.004623\n",
       "fully_paid                          1.000000\n",
       "late_chargedoff                    -0.005725\n",
       "dtype: float64"
      ]
     },
     "execution_count": 13,
     "metadata": {},
     "output_type": "execute_result"
    }
   ],
   "source": [
    "# Correlation Calculation\n",
    "# Finding columns with correlation to the fully paid column \n",
    "# paid_total and paid_principal have the highest correlations with fully paid\n",
    "train.corrwith(train[\"fully_paid\"])"
   ]
  },
  {
   "cell_type": "markdown",
   "metadata": {},
   "source": [
    "### Data Visualizations and EDA"
   ]
  },
  {
   "cell_type": "code",
   "execution_count": 64,
   "metadata": {},
   "outputs": [
    {
     "data": {
      "image/png": "[encoded data removed]",
      "text/plain": [
       "<Figure size 1080x576 with 1 Axes>"
      ]
     },
     "metadata": {
      "needs_background": "light"
     },
     "output_type": "display_data"
    }
   ],
   "source": [
    "# Bar plot of Loan Status \n",
    "# Visualize class imbalance for all 6 loan statuses\n",
    "plt.figure(figsize= (15,8));\n",
    "plt.title('Loan Status Distribution', size =20)\n",
    "plt.xlabel('Loan Status', size=18)\n",
    "plt.ylabel('Frequency', size=18)\n",
    "train['loan_status'].value_counts().plot(kind='bar');"
   ]
  },
  {
   "cell_type": "code",
   "execution_count": 18,
   "metadata": {},
   "outputs": [
    {
     "data": {
      "text/plain": [
       "Index(['emp_title', 'emp_length', 'state', 'homeownership', 'annual_income',\n",
       "       'verified_income', 'debt_to_income', 'annual_income_joint',\n",
       "       'verification_income_joint', 'debt_to_income_joint', 'delinq_2y',\n",
       "       'months_since_last_delinq', 'earliest_credit_line',\n",
       "       'inquiries_last_12m', 'total_credit_lines', 'open_credit_lines',\n",
       "       'total_credit_limit', 'total_credit_utilized',\n",
       "       'num_collections_last_12m', 'num_historical_failed_to_pay',\n",
       "       'months_since_90d_late', 'current_accounts_delinq',\n",
       "       'total_collection_amount_ever', 'current_installment_accounts',\n",
       "       'accounts_opened_24m', 'months_since_last_credit_inquiry',\n",
       "       'num_satisfactory_accounts', 'num_accounts_120d_past_due',\n",
       "       'num_accounts_30d_past_due', 'num_active_debit_accounts',\n",
       "       'total_debit_limit', 'num_total_cc_accounts', 'num_open_cc_accounts',\n",
       "       'num_cc_carrying_balance', 'num_mort_accounts',\n",
       "       'account_never_delinq_percent', 'tax_liens', 'public_record_bankrupt',\n",
       "       'loan_purpose', 'application_type', 'loan_amount', 'term',\n",
       "       'interest_rate', 'installment', 'grade', 'sub_grade', 'issue_month',\n",
       "       'loan_status', 'initial_listing_status', 'disbursement_method',\n",
       "       'balance', 'paid_total', 'paid_principal', 'paid_interest',\n",
       "       'paid_late_fees', 'fully_paid', 'late_chargedoff'],\n",
       "      dtype='object')"
      ]
     },
     "execution_count": 18,
     "metadata": {},
     "output_type": "execute_result"
    }
   ],
   "source": [
    "train.columns"
   ]
  },
  {
   "cell_type": "code",
   "execution_count": 87,
   "metadata": {},
   "outputs": [
    {
     "data": {
      "image/png": "[encoded data removed]",
      "text/plain": [
       "<Figure size 1080x576 with 1 Axes>"
      ]
     },
     "metadata": {
      "needs_background": "light"
     },
     "output_type": "display_data"
    }
   ],
   "source": [
    "# Bar plot of Loan Grade Distribution\n",
    "plt.figure(figsize= (15,8));\n",
    "plt.title('Loan Grade Distribution', size =20)\n",
    "plt.xlabel('Loan Grade', size=18)\n",
    "plt.ylabel('Frequency', size=18)\n",
    "train['grade'].value_counts().plot(kind='bar');"
   ]
  },
  {
   "cell_type": "code",
   "execution_count": 69,
   "metadata": {},
   "outputs": [
    {
     "data": {
      "text/plain": [
       "50"
      ]
     },
     "execution_count": 69,
     "metadata": {},
     "output_type": "execute_result"
    }
   ],
   "source": [
    "train['state'].nunique()"
   ]
  },
  {
   "cell_type": "code",
   "execution_count": 90,
   "metadata": {},
   "outputs": [
    {
     "data": {
      "image/png": "[encoded data removed]",
      "text/plain": [
       "<Figure size 1080x576 with 1 Axes>"
      ]
     },
     "metadata": {
      "needs_background": "light"
     },
     "output_type": "display_data"
    }
   ],
   "source": [
    "plt.figure(figsize= (15,8));\n",
    "plt.title('Top 5 Employment Title Distribution', size =20)\n",
    "plt.xlabel('Employment', size=18)\n",
    "plt.ylabel('Frequency', size=18)\n",
    "train['emp_title'].value_counts().head(5).plot(kind='bar');"
   ]
  },
  {
   "cell_type": "code",
   "execution_count": 54,
   "metadata": {},
   "outputs": [],
   "source": [
    "# Make filtered dataframe with only loan status of fullly paid \n",
    "fully_paid = train[train['fully_paid'] == 1]"
   ]
  },
  {
   "cell_type": "code",
   "execution_count": 72,
   "metadata": {},
   "outputs": [
    {
     "data": {
      "text/plain": [
       "44"
      ]
     },
     "execution_count": 72,
     "metadata": {},
     "output_type": "execute_result"
    }
   ],
   "source": [
    "# 44 states had fully paid loan status\n",
    "fully_paid['state'].nunique()"
   ]
  },
  {
   "cell_type": "code",
   "execution_count": 85,
   "metadata": {},
   "outputs": [
    {
     "data": {
      "image/png": "[encoded data removed]",
      "text/plain": [
       "<Figure size 1080x576 with 1 Axes>"
      ]
     },
     "metadata": {
      "needs_background": "light"
     },
     "output_type": "display_data"
    }
   ],
   "source": [
    "# The top 5 states by frequency\n",
    "plt.figure(figsize= (15,8));\n",
    "plt.title('Top 10 States Distribution', size =20)\n",
    "plt.xlabel('States', size=18)\n",
    "plt.ylabel('Frequency', size=18)\n",
    "train['state'].value_counts().head(10).plot(kind='bar');"
   ]
  },
  {
   "cell_type": "code",
   "execution_count": 86,
   "metadata": {},
   "outputs": [
    {
     "data": {
      "image/png": "[encoded data removed]",
      "text/plain": [
       "<Figure size 1080x576 with 1 Axes>"
      ]
     },
     "metadata": {
      "needs_background": "light"
     },
     "output_type": "display_data"
    }
   ],
   "source": [
    "# The top 5 states by fully paid loan status\n",
    "plt.figure(figsize= (15,8));\n",
    "plt.title('Top 10 States w/ Fully Paid Loan Status Distribution', size =20)\n",
    "plt.xlabel('States', size=18)\n",
    "plt.ylabel('Frequency', size=18)\n",
    "fully_paid['state'].value_counts().head(10).plot(kind='bar');"
   ]
  },
  {
   "cell_type": "markdown",
   "metadata": {},
   "source": [
    "### States Bar Charts Distribution Analysis\n",
    "The bar graphs of the top 10 states by frequency of the whole dataset and the fully paid ones do not have a big difference between the two. <br>\n",
    "The top 5 states are the same between the two graphs. Besides the graphs being quite similar there is no other noticeable trend to be gathered."
   ]
  },
  {
   "cell_type": "code",
   "execution_count": 63,
   "metadata": {},
   "outputs": [
    {
     "data": {
      "image/png": "[encoded data removed]",
      "text/plain": [
       "<Figure size 1080x576 with 1 Axes>"
      ]
     },
     "metadata": {
      "needs_background": "light"
     },
     "output_type": "display_data"
    }
   ],
   "source": [
    "plt.figure(figsize= (15,8));\n",
    "plt.title('Top 15 Fully Paid Loan Employment Title', size =20)\n",
    "plt.xlabel('Employment', size=18)\n",
    "plt.ylabel('Frequency', size=18)\n",
    "fully_paid['emp_title'].value_counts().head(15).plot(kind='bar');"
   ]
  },
  {
   "cell_type": "code",
   "execution_count": null,
   "metadata": {},
   "outputs": [],
   "source": []
  },
  {
   "cell_type": "code",
   "execution_count": 27,
   "metadata": {},
   "outputs": [
    {
     "data": {
      "image/png": "[encoded data removed]",
      "text/plain": [
       "<Figure size 432x288 with 1 Axes>"
      ]
     },
     "metadata": {
      "needs_background": "light"
     },
     "output_type": "display_data"
    }
   ],
   "source": [
    "# Imbalanced classes for current (0) and Paid in Full(1)\n",
    "train['fully_paid'].value_counts().plot(kind='bar');"
   ]
  },
  {
   "cell_type": "code",
   "execution_count": 49,
   "metadata": {},
   "outputs": [
    {
     "data": {
      "text/plain": [
       "0    9553\n",
       "1     447\n",
       "Name: fully_paid, dtype: int64"
      ]
     },
     "execution_count": 49,
     "metadata": {},
     "output_type": "execute_result"
    }
   ],
   "source": [
    "train['fully_paid'].value_counts()"
   ]
  },
  {
   "cell_type": "code",
   "execution_count": 53,
   "metadata": {},
   "outputs": [
    {
     "data": {
      "text/html": [
       "<div>\n",
       "<style scoped>\n",
       "    .dataframe tbody tr th:only-of-type {\n",
       "        vertical-align: middle;\n",
       "    }\n",
       "\n",
       "    .dataframe tbody tr th {\n",
       "        vertical-align: top;\n",
       "    }\n",
       "\n",
       "    .dataframe thead th {\n",
       "        text-align: right;\n",
       "    }\n",
       "</style>\n",
       "<table border=\"1\" class=\"dataframe\">\n",
       "  <thead>\n",
       "    <tr style=\"text-align: right;\">\n",
       "      <th></th>\n",
       "      <th>emp_title</th>\n",
       "      <th>emp_length</th>\n",
       "      <th>state</th>\n",
       "      <th>homeownership</th>\n",
       "      <th>annual_income</th>\n",
       "      <th>verified_income</th>\n",
       "      <th>debt_to_income</th>\n",
       "      <th>annual_income_joint</th>\n",
       "      <th>verification_income_joint</th>\n",
       "      <th>debt_to_income_joint</th>\n",
       "      <th>...</th>\n",
       "      <th>issue_month</th>\n",
       "      <th>loan_status</th>\n",
       "      <th>initial_listing_status</th>\n",
       "      <th>disbursement_method</th>\n",
       "      <th>balance</th>\n",
       "      <th>paid_total</th>\n",
       "      <th>paid_principal</th>\n",
       "      <th>paid_interest</th>\n",
       "      <th>paid_late_fees</th>\n",
       "      <th>fully_paid</th>\n",
       "    </tr>\n",
       "  </thead>\n",
       "  <tbody>\n",
       "    <tr>\n",
       "      <th>0</th>\n",
       "      <td>global config engineer</td>\n",
       "      <td>3.0</td>\n",
       "      <td>NJ</td>\n",
       "      <td>MORTGAGE</td>\n",
       "      <td>90000.0</td>\n",
       "      <td>Verified</td>\n",
       "      <td>18.01</td>\n",
       "      <td>NaN</td>\n",
       "      <td>NaN</td>\n",
       "      <td>NaN</td>\n",
       "      <td>...</td>\n",
       "      <td>Mar-2018</td>\n",
       "      <td>Current</td>\n",
       "      <td>whole</td>\n",
       "      <td>Cash</td>\n",
       "      <td>27015.86</td>\n",
       "      <td>1999.33</td>\n",
       "      <td>984.14</td>\n",
       "      <td>1015.19</td>\n",
       "      <td>0.0</td>\n",
       "      <td>0</td>\n",
       "    </tr>\n",
       "    <tr>\n",
       "      <th>1</th>\n",
       "      <td>warehouse office clerk</td>\n",
       "      <td>10.0</td>\n",
       "      <td>HI</td>\n",
       "      <td>RENT</td>\n",
       "      <td>40000.0</td>\n",
       "      <td>Not Verified</td>\n",
       "      <td>5.04</td>\n",
       "      <td>NaN</td>\n",
       "      <td>NaN</td>\n",
       "      <td>NaN</td>\n",
       "      <td>...</td>\n",
       "      <td>Feb-2018</td>\n",
       "      <td>Current</td>\n",
       "      <td>whole</td>\n",
       "      <td>Cash</td>\n",
       "      <td>4651.37</td>\n",
       "      <td>499.12</td>\n",
       "      <td>348.63</td>\n",
       "      <td>150.49</td>\n",
       "      <td>0.0</td>\n",
       "      <td>0</td>\n",
       "    </tr>\n",
       "    <tr>\n",
       "      <th>2</th>\n",
       "      <td>assembly</td>\n",
       "      <td>3.0</td>\n",
       "      <td>WI</td>\n",
       "      <td>RENT</td>\n",
       "      <td>40000.0</td>\n",
       "      <td>Source Verified</td>\n",
       "      <td>21.15</td>\n",
       "      <td>NaN</td>\n",
       "      <td>NaN</td>\n",
       "      <td>NaN</td>\n",
       "      <td>...</td>\n",
       "      <td>Feb-2018</td>\n",
       "      <td>Current</td>\n",
       "      <td>fractional</td>\n",
       "      <td>Cash</td>\n",
       "      <td>1824.63</td>\n",
       "      <td>281.80</td>\n",
       "      <td>175.37</td>\n",
       "      <td>106.43</td>\n",
       "      <td>0.0</td>\n",
       "      <td>0</td>\n",
       "    </tr>\n",
       "    <tr>\n",
       "      <th>3</th>\n",
       "      <td>customer service</td>\n",
       "      <td>1.0</td>\n",
       "      <td>PA</td>\n",
       "      <td>RENT</td>\n",
       "      <td>30000.0</td>\n",
       "      <td>Not Verified</td>\n",
       "      <td>10.16</td>\n",
       "      <td>NaN</td>\n",
       "      <td>NaN</td>\n",
       "      <td>NaN</td>\n",
       "      <td>...</td>\n",
       "      <td>Jan-2018</td>\n",
       "      <td>Current</td>\n",
       "      <td>whole</td>\n",
       "      <td>Cash</td>\n",
       "      <td>18853.26</td>\n",
       "      <td>3312.89</td>\n",
       "      <td>2746.74</td>\n",
       "      <td>566.15</td>\n",
       "      <td>0.0</td>\n",
       "      <td>0</td>\n",
       "    </tr>\n",
       "    <tr>\n",
       "      <th>4</th>\n",
       "      <td>security supervisor</td>\n",
       "      <td>10.0</td>\n",
       "      <td>CA</td>\n",
       "      <td>RENT</td>\n",
       "      <td>35000.0</td>\n",
       "      <td>Verified</td>\n",
       "      <td>57.96</td>\n",
       "      <td>57000.0</td>\n",
       "      <td>Verified</td>\n",
       "      <td>37.66</td>\n",
       "      <td>...</td>\n",
       "      <td>Mar-2018</td>\n",
       "      <td>Current</td>\n",
       "      <td>whole</td>\n",
       "      <td>Cash</td>\n",
       "      <td>21430.15</td>\n",
       "      <td>2324.65</td>\n",
       "      <td>1569.85</td>\n",
       "      <td>754.80</td>\n",
       "      <td>0.0</td>\n",
       "      <td>0</td>\n",
       "    </tr>\n",
       "  </tbody>\n",
       "</table>\n",
       "<p>5 rows × 56 columns</p>\n",
       "</div>"
      ],
      "text/plain": [
       "                 emp_title  emp_length state homeownership  annual_income  \\\n",
       "0  global config engineer          3.0    NJ      MORTGAGE        90000.0   \n",
       "1   warehouse office clerk        10.0    HI          RENT        40000.0   \n",
       "2                 assembly         3.0    WI          RENT        40000.0   \n",
       "3         customer service         1.0    PA          RENT        30000.0   \n",
       "4     security supervisor         10.0    CA          RENT        35000.0   \n",
       "\n",
       "   verified_income  debt_to_income  annual_income_joint  \\\n",
       "0         Verified           18.01                  NaN   \n",
       "1     Not Verified            5.04                  NaN   \n",
       "2  Source Verified           21.15                  NaN   \n",
       "3     Not Verified           10.16                  NaN   \n",
       "4         Verified           57.96              57000.0   \n",
       "\n",
       "  verification_income_joint  debt_to_income_joint  ...  issue_month  \\\n",
       "0                       NaN                   NaN  ...     Mar-2018   \n",
       "1                       NaN                   NaN  ...     Feb-2018   \n",
       "2                       NaN                   NaN  ...     Feb-2018   \n",
       "3                       NaN                   NaN  ...     Jan-2018   \n",
       "4                  Verified                 37.66  ...     Mar-2018   \n",
       "\n",
       "   loan_status  initial_listing_status  disbursement_method   balance  \\\n",
       "0      Current                   whole                 Cash  27015.86   \n",
       "1      Current                   whole                 Cash   4651.37   \n",
       "2      Current              fractional                 Cash   1824.63   \n",
       "3      Current                   whole                 Cash  18853.26   \n",
       "4      Current                   whole                 Cash  21430.15   \n",
       "\n",
       "   paid_total  paid_principal  paid_interest  paid_late_fees  fully_paid  \n",
       "0     1999.33          984.14        1015.19             0.0           0  \n",
       "1      499.12          348.63         150.49             0.0           0  \n",
       "2      281.80          175.37         106.43             0.0           0  \n",
       "3     3312.89         2746.74         566.15             0.0           0  \n",
       "4     2324.65         1569.85         754.80             0.0           0  \n",
       "\n",
       "[5 rows x 56 columns]"
      ]
     },
     "execution_count": 53,
     "metadata": {},
     "output_type": "execute_result"
    }
   ],
   "source": [
    "train.head()"
   ]
  },
  {
   "cell_type": "code",
   "execution_count": null,
   "metadata": {},
   "outputs": [],
   "source": []
  },
  {
   "cell_type": "code",
   "execution_count": null,
   "metadata": {},
   "outputs": [],
   "source": []
  },
  {
   "cell_type": "code",
   "execution_count": 15,
   "metadata": {},
   "outputs": [],
   "source": [
    "train.to_csv('datasets/loans_schema_clean.csv', encoding = 'utf-8', index=False)"
   ]
  },
  {
   "cell_type": "code",
   "execution_count": null,
   "metadata": {},
   "outputs": [],
   "source": []
  }
 ],
 "metadata": {
  "kernelspec": {
   "display_name": "Python 3",
   "language": "python",
   "name": "python3"
  },
  "language_info": {
   "codemirror_mode": {
    "name": "ipython",
    "version": 3
   },
   "file_extension": ".py",
   "mimetype": "text/x-python",
   "name": "python",
   "nbconvert_exporter": "python",
   "pygments_lexer": "ipython3",
   "version": "3.8.5"
  }
 },
 "nbformat": 4,
 "nbformat_minor": 4
}
